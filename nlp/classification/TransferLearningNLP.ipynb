{
  "nbformat": 4,
  "nbformat_minor": 0,
  "metadata": {
    "colab": {
      "name": "TransferLearningNLP.ipynb",
      "version": "0.3.2",
      "provenance": [],
      "include_colab_link": true
    },
    "kernelspec": {
      "display_name": "Python 3",
      "language": "python",
      "name": "python3"
    }
  },
  "cells": [
    {
      "cell_type": "markdown",
      "metadata": {
        "id": "view-in-github",
        "colab_type": "text"
      },
      "source": [
        "[View in Colaboratory](https://colab.research.google.com/github/secsilm/awsome-colabs/blob/master/nlp/classification/TransferLearningNLP.ipynb)"
      ]
    },
    {
      "metadata": {
        "id": "JSRl4XtCiffJ",
        "colab_type": "text"
      },
      "cell_type": "markdown",
      "source": [
        "# Transfer Learning for NLP: Sentiment Analysis on Amazon Reviews\n",
        "In this notebook, we show how transfer learning can be applied to detecting the sentiment of amazon reviews, between positive and negative reviews.\n",
        "\n",
        "This notebook uses the work from [Howard and Ruder, Ulmfit](https://arxiv.org/pdf/1801.06146.pdf).\n",
        "The idea of the paper (and it implementation explained in the [fast.ai deep learning course](http://course.fast.ai/lessons/lesson10.html)) is to learn a language model trained on a very large dataset, e.g. a Wikipedia dump. The intuition is that if a model is able to predict the next word at each word, it means it has learnt something about the structure of the language we are using.\n",
        "\n",
        "[Word2vec](https://arxiv.org/pdf/1310.4546.pdf) and the likes have lead to huge improvements on various NLP tasks. This could be seen as a first step to transfer learning, where the pre-trained word vectors correspond to a transfer of the embedding layer.\n",
        "The ambition of [Ulmfit](https://arxiv.org/pdf/1801.06146.pdf) (and others like [ELMO](https://arxiv.org/pdf/1802.05365.pdf) or the [Transformer language model](https://s3-us-west-2.amazonaws.com/openai-assets/research-covers/language-unsupervised/language_understanding_paper.pdf) recently introduced) is to progressively move the NLP field to the state where Computer Vision has risen thanks to the ImageNet challenge. Thanks to the ImageNet chalenge, today it is easy to download a model pre-trained on massive dataset of images, remove the last layer and replace it by a classifier or a regressor depending on the interest. \n",
        "\n",
        "With Ulmfit, the goal is for everyone to be able to use a pre-trained language model and use it a backbone which we can use along with a classifier and a regressor. The game-changing apect of transfer learning is that we are no longer limited by the size of trzining data! With only a fraction of the data size that was necessary before, we can trtain a classifier/regressor and have very good result with few labelled data.\n",
        "\n",
        "Given that labelled text data are difficult to get, in comparison with unlabelled text data which is almost infinite, transfer learning is likely to change radically the field of NLP, and help lead to a maturity state closer to computyer vision.\n",
        "\n",
        "The architecture for the language model used in ULMFit is the [AWD-LSTM language model](https://arxiv.org/pdf/1708.02182.pdf) by Merity.\n",
        "\n",
        "While we are using this language model for this experiment, we keep an eye open to a recently proposed character language model with [Contextual String Embedings](http://alanakbik.github.io/papers/coling2018.pdf) by Akbik."
      ]
    },
    {
      "metadata": {
        "id": "o1gSu3G_iffM",
        "colab_type": "text"
      },
      "cell_type": "markdown",
      "source": [
        "# Content of this notebook"
      ]
    },
    {
      "metadata": {
        "id": "PKtvqvWTiffO",
        "colab_type": "text"
      },
      "cell_type": "markdown",
      "source": [
        "This notebook illustrate the power of Ulmfit on a dataset of Amazon reviews available on Kaggle at https://www.kaggle.com/bittlingmayer/amazonreviews/home.\n",
        "We use code from the excellent fastai course and use it for a different dataset. The original code is available at https://github.com/fastai/fastai/tree/master/courses/dl2\n",
        "\n",
        "The data consists of 4M reviews that are either positives or negatives. Training a model with FastText classifier results in a f1 score of 0.916.\n",
        "We show that uing only a fraction of this dataset we are able to reach similar and even better results.\n",
        "\n",
        "We encourage you to try it on your own tasks!\n",
        "Note that if you are interested in Regression instead of classification, you can also do it following this [advice](http://forums.fast.ai/t/regression-using-ulmfit/18063/6)."
      ]
    },
    {
      "metadata": {
        "id": "PrZ5W8m9iffP",
        "colab_type": "text"
      },
      "cell_type": "markdown",
      "source": [
        "The notebook is organized as such:\n",
        "\n",
        "- Tokenize the reviews and create dictionaries\n",
        "- Download a pre-trained model and link the dictionary to the embedding layer of the model\n",
        "- Fine-tune the language model on the amaxon reviews texts\n",
        "\n",
        "We have then the backbone of our algorithm: a pre-trained language model fine-tuned on Amazon reviews\n",
        "\n",
        "- Add a classifier to the language model and train the classifier layer only\n",
        "- Gradually defreeze successive layers to train different layers on the amazon reviews\n",
        "- Run a full classification task for several epochs\n",
        "- Use the model for inference!\n",
        "\n",
        "We end this notebook by looking at the specific effect of training size on the overall performance. This is to test the hypothesis that the ULMFit model does not need much labeled data to perform well."
      ]
    },
    {
      "metadata": {
        "id": "41if5jpWiffR",
        "colab_type": "text"
      },
      "cell_type": "markdown",
      "source": [
        "# Data"
      ]
    },
    {
      "metadata": {
        "id": "GdeymwL-iffU",
        "colab_type": "text"
      },
      "cell_type": "markdown",
      "source": [
        "Before starting, you should download the data from https://www.kaggle.com/bittlingmayer/amazonreviews, and put the extracted files into an ./Amazon folder somewher you like, and use this path for this notebook.\n",
        "\n",
        "Also, we recommend working on a dedicated environment (e.g. mkvirtualenv fastai). Then clone the fastai github repo https://github.com/fastai/fastai and install requirements."
      ]
    },
    {
      "metadata": {
        "id": "mtOh2d1biffV",
        "colab_type": "code",
        "colab": {}
      },
      "cell_type": "code",
      "source": [
        "from fastai.text import *\n",
        "import html\n",
        "import os\n",
        "import pandas as pd\n",
        "import pickle\n",
        "import re\n",
        "from sklearn.metrics import accuracy_score, f1_score, precision_score, recall_score, classification_report, \\\n",
        "confusion_matrix\n",
        "from sklearn.model_selection import train_test_split\n",
        "from time import time"
      ],
      "execution_count": 0,
      "outputs": []
    },
    {
      "metadata": {
        "id": "rGArIEgpiffa",
        "colab_type": "code",
        "colab": {}
      },
      "cell_type": "code",
      "source": [
        "path = '/your/path/to/folder/Amazon'\n",
        "train = []\n",
        "with open(os.path.join(path, 'train.ft.txt'), 'r') as file:\n",
        "    for line in file:\n",
        "        train.append(file.readline())\n",
        "        \n",
        "test = []\n",
        "with open(os.path.join(path, 'test.ft.txt'), 'r') as file:\n",
        "    for line in file:\n",
        "        test.append(file.readline())"
      ],
      "execution_count": 0,
      "outputs": []
    },
    {
      "metadata": {
        "id": "GXbx2XNKiffe",
        "colab_type": "code",
        "colab": {}
      },
      "cell_type": "code",
      "source": [
        "print(f'The train data contains {len(train)} examples')\n",
        "print(f'The test data contains {len(test)} examples')"
      ],
      "execution_count": 0,
      "outputs": []
    },
    {
      "metadata": {
        "id": "i61gqnW0iffi",
        "colab_type": "code",
        "colab": {}
      },
      "cell_type": "code",
      "source": [
        "BOS = 'xbos'  # beginning-of-sentence tag\n",
        "FLD = 'xfld'  # data field tag\n",
        "\n",
        "PATH=Path('/your/path/to/folder/Amazon')\n",
        "\n",
        "CLAS_PATH=PATH/'amazon_class'\n",
        "CLAS_PATH.mkdir(exist_ok=True)\n",
        "\n",
        "LM_PATH=PATH/'amazon_lm'\n",
        "LM_PATH.mkdir(exist_ok=True)"
      ],
      "execution_count": 0,
      "outputs": []
    },
    {
      "metadata": {
        "id": "M7pkl21biffn",
        "colab_type": "code",
        "colab": {}
      },
      "cell_type": "code",
      "source": [
        "# Each item is '__label__1/2' and then the review so we split to get texts and labels\n",
        "trn_texts,trn_labels = [text[10:] for text in train], [text[:10] for text in train]\n",
        "trn_labels = [0 if label == '__label__1' else 1 for label in trn_labels]\n",
        "val_texts,val_labels = [text[10:] for text in test], [text[:10] for text in test]\n",
        "val_labels = [0 if label == '__label__1' else 1 for label in val_labels]"
      ],
      "execution_count": 0,
      "outputs": []
    },
    {
      "metadata": {
        "id": "0hyC3jYoifft",
        "colab_type": "code",
        "colab": {}
      },
      "cell_type": "code",
      "source": [
        "# Following fast.ai recommendations we put our data in pandas dataframes\n",
        "col_names = ['labels','text']\n",
        "\n",
        "df_trn = pd.DataFrame({'text':trn_texts, 'labels':trn_labels}, columns=col_names)\n",
        "df_val = pd.DataFrame({'text':val_texts, 'labels':val_labels}, columns=col_names)"
      ],
      "execution_count": 0,
      "outputs": []
    },
    {
      "metadata": {
        "id": "XGQvUOGriff1",
        "colab_type": "code",
        "colab": {}
      },
      "cell_type": "code",
      "source": [
        "df_trn.head(10)"
      ],
      "execution_count": 0,
      "outputs": []
    },
    {
      "metadata": {
        "id": "inkfIZr4ifgH",
        "colab_type": "code",
        "colab": {}
      },
      "cell_type": "code",
      "source": [
        "df_trn.to_csv(CLAS_PATH/'train.csv', header=False, index=False)\n",
        "df_val.to_csv(CLAS_PATH/'test.csv', header=False, index=False)"
      ],
      "execution_count": 0,
      "outputs": []
    },
    {
      "metadata": {
        "id": "EfftlIRSifgM",
        "colab_type": "code",
        "colab": {}
      },
      "cell_type": "code",
      "source": [
        "CLASSES = ['neg', 'pos']\n",
        "(CLAS_PATH/'classes.txt').open('w').writelines(f'{o}\\n' for o in CLASSES)"
      ],
      "execution_count": 0,
      "outputs": []
    },
    {
      "metadata": {
        "id": "fhgQ47EUifgP",
        "colab_type": "text"
      },
      "cell_type": "markdown",
      "source": [
        "# Language Model"
      ]
    },
    {
      "metadata": {
        "id": "rHP6O_ohifgQ",
        "colab_type": "code",
        "colab": {}
      },
      "cell_type": "code",
      "source": [
        "# We're going to fine tune the language model so it's ok to take some of the test set in our train data\n",
        "# for the lm fine-tuning\n",
        "trn_texts,val_texts = train_test_split(np.concatenate([trn_texts,val_texts]), test_size=0.1)\n",
        "\n",
        "df_trn = pd.DataFrame({'text':trn_texts, 'labels':[0]*len(trn_texts)}, columns=col_names)\n",
        "df_val = pd.DataFrame({'text':val_texts, 'labels':[0]*len(val_texts)}, columns=col_names)\n",
        "\n",
        "df_trn.to_csv(LM_PATH/'train.csv', header=False, index=False)\n",
        "df_val.to_csv(LM_PATH/'test.csv', header=False, index=False)"
      ],
      "execution_count": 0,
      "outputs": []
    },
    {
      "metadata": {
        "id": "r0TclUZMifgW",
        "colab_type": "code",
        "colab": {}
      },
      "cell_type": "code",
      "source": [
        "# Here we use functions from the fast.ai course to get data\n",
        "\n",
        "chunksize=24000\n",
        "re1 = re.compile(r'  +')\n",
        "\n",
        "def fixup(x):\n",
        "    x = x.replace('#39;', \"'\").replace('amp;', '&').replace('#146;', \"'\").replace(\n",
        "        'nbsp;', ' ').replace('#36;', '$').replace('\\\\n', \"\\n\").replace('quot;', \"'\").replace(\n",
        "        '<br />', \"\\n\").replace('\\\\\"', '\"').replace('<unk>','u_n').replace(' @.@ ','.').replace(\n",
        "        ' @-@ ','-').replace('\\\\', ' \\\\ ')\n",
        "    return re1.sub(' ', html.unescape(x))\n",
        "\n",
        "def get_texts(df, n_lbls=1):\n",
        "    labels = df.iloc[:,range(n_lbls)].values.astype(np.int64)\n",
        "    texts = f'\\n{BOS} {FLD} 1 ' + df[n_lbls].astype(str)\n",
        "    for i in range(n_lbls+1, len(df.columns)): \n",
        "        texts += f' {FLD} {i-n_lbls} ' + df[i].astype(str)\n",
        "    texts = list(texts.apply(fixup).values)\n",
        "\n",
        "    tok = Tokenizer().proc_all_mp(partition_by_cores(texts))\n",
        "    return tok, list(labels)\n",
        "\n",
        "def get_all(df, n_lbls):\n",
        "    tok, labels = [], []\n",
        "    for i, r in enumerate(df):\n",
        "        print(i)\n",
        "        tok_, labels_ = get_texts(r, n_lbls)\n",
        "        tok += tok_;\n",
        "        labels += labels_\n",
        "    return tok, labels\n",
        "\n",
        "df_trn = pd.read_csv(LM_PATH/'train.csv', header=None, chunksize=chunksize)\n",
        "df_val = pd.read_csv(LM_PATH/'test.csv', header=None, chunksize=chunksize)"
      ],
      "execution_count": 0,
      "outputs": []
    },
    {
      "metadata": {
        "id": "CqfV1x1fifgZ",
        "colab_type": "code",
        "colab": {}
      },
      "cell_type": "code",
      "source": [
        "# This cell can take quite some time if your dataset is large\n",
        "# Run it once and comment it for later use\n",
        "tok_trn, trn_labels = get_all(df_trn, 1)\n",
        "tok_val, val_labels = get_all(df_val, 1)"
      ],
      "execution_count": 0,
      "outputs": []
    },
    {
      "metadata": {
        "id": "J8rG6V4difge",
        "colab_type": "code",
        "colab": {}
      },
      "cell_type": "code",
      "source": [
        "# Run this cell once and comment everything but the load statements for later use\n",
        "\n",
        "(LM_PATH/'tmp').mkdir(exist_ok=True)\n",
        "np.save(LM_PATH/'tmp'/'tok_trn.npy', tok_trn)\n",
        "np.save(LM_PATH/'tmp'/'tok_val.npy', tok_val)\n",
        "tok_trn = np.load(LM_PATH/'tmp'/'tok_trn.npy')\n",
        "tok_val = np.load(LM_PATH/'tmp'/'tok_val.npy')"
      ],
      "execution_count": 0,
      "outputs": []
    },
    {
      "metadata": {
        "id": "HY4a54MMifgi",
        "colab_type": "code",
        "colab": {}
      },
      "cell_type": "code",
      "source": [
        "# Check the most common tokens\n",
        "freq = Counter(p for o in tok_trn for p in o)\n",
        "freq.most_common(25)"
      ],
      "execution_count": 0,
      "outputs": []
    },
    {
      "metadata": {
        "id": "1u30wYGjifgl",
        "colab_type": "code",
        "colab": {}
      },
      "cell_type": "code",
      "source": [
        "# Check the least common tokens\n",
        "freq.most_common()[-25:]"
      ],
      "execution_count": 0,
      "outputs": []
    },
    {
      "metadata": {
        "id": "cr6ds1jBifgn",
        "colab_type": "code",
        "colab": {}
      },
      "cell_type": "code",
      "source": [
        "# Build your vocabulary by keeping only the most common tokens that appears frequently enough\n",
        "# and constrain the size of your vocabulary. We follow here the 60k recommendation.\n",
        "max_vocab = 60000\n",
        "min_freq = 2\n",
        "\n",
        "itos = [o for o,c in freq.most_common(max_vocab) if c>min_freq]\n",
        "itos.insert(0, '_pad_')\n",
        "itos.insert(0, '_unk_')\n",
        "\n",
        "stoi = collections.defaultdict(lambda:0, {v:k for k,v in enumerate(itos)})\n",
        "len(itos)\n",
        "\n",
        "trn_lm = np.array([[stoi[o] for o in p] for p in tok_trn])\n",
        "val_lm = np.array([[stoi[o] for o in p] for p in tok_val])\n",
        "\n",
        "np.save(LM_PATH/'tmp'/'trn_ids.npy', trn_lm)\n",
        "np.save(LM_PATH/'tmp'/'val_ids.npy', val_lm)\n",
        "pickle.dump(itos, open(LM_PATH/'tmp'/'itos.pkl', 'wb'))"
      ],
      "execution_count": 0,
      "outputs": []
    },
    {
      "metadata": {
        "id": "staowVK5ifgq",
        "colab_type": "code",
        "colab": {}
      },
      "cell_type": "code",
      "source": [
        "# Save everything\n",
        "trn_lm = np.load(LM_PATH/'tmp'/'trn_ids.npy')\n",
        "val_lm = np.load(LM_PATH/'tmp'/'val_ids.npy')\n",
        "itos = pickle.load(open(LM_PATH/'tmp'/'itos.pkl', 'rb'))"
      ],
      "execution_count": 0,
      "outputs": []
    },
    {
      "metadata": {
        "id": "H_ra5_LVifgs",
        "colab_type": "code",
        "colab": {}
      },
      "cell_type": "code",
      "source": [
        "vs=len(itos)\n",
        "vs,len(trn_lm)"
      ],
      "execution_count": 0,
      "outputs": []
    },
    {
      "metadata": {
        "id": "Ou1i7jRoifgw",
        "colab_type": "text"
      },
      "cell_type": "markdown",
      "source": [
        "# Using pre trained Language Model"
      ]
    },
    {
      "metadata": {
        "id": "owi9Z4eNifgw",
        "colab_type": "code",
        "colab": {}
      },
      "cell_type": "code",
      "source": [
        "# Uncomment this cell to download the pre-trained model.\n",
        "# It will be placed into the PATH that you defined earlier.\n",
        "# ! wget -nH -r -np -P {PATH} http://files.fast.ai/models/wt103/"
      ],
      "execution_count": 0,
      "outputs": []
    },
    {
      "metadata": {
        "id": "v4i1BJtaifgz",
        "colab_type": "code",
        "colab": {}
      },
      "cell_type": "code",
      "source": [
        "# Load the weights of the model\n",
        "em_sz,nh,nl = 400,1150,3\n",
        "\n",
        "PRE_PATH = PATH/'models'/'wt103'\n",
        "PRE_LM_PATH = PRE_PATH/'fwd_wt103.h5'\n",
        "\n",
        "wgts = torch.load(PRE_LM_PATH, map_location=lambda storage, loc: storage)"
      ],
      "execution_count": 0,
      "outputs": []
    },
    {
      "metadata": {
        "id": "XtMVHf2sifg4",
        "colab_type": "code",
        "colab": {},
        "outputId": "284a4204-e4fd-4c9f-a54b-ac9fe68795ff"
      },
      "cell_type": "code",
      "source": [
        "# Check the word embedding layer and keep a 'mean word' for unknown tokens\n",
        "enc_wgts = to_np(wgts['0.encoder.weight'])\n",
        "row_m = enc_wgts.mean(0)\n",
        "\n",
        "enc_wgts.shape"
      ],
      "execution_count": 0,
      "outputs": [
        {
          "output_type": "execute_result",
          "data": {
            "text/plain": [
              "(238462, 400)"
            ]
          },
          "metadata": {
            "tags": []
          },
          "execution_count": 8
        }
      ]
    },
    {
      "metadata": {
        "id": "zXUt-yA2ifhA",
        "colab_type": "code",
        "colab": {}
      },
      "cell_type": "code",
      "source": [
        "# Load the vocabulary on which the pre-trained model was trained\n",
        "# Define an embedding matrix with the vocabulary of our dataset\n",
        "itos2 = pickle.load((PRE_PATH/'itos_wt103.pkl').open('rb'))\n",
        "stoi2 = collections.defaultdict(lambda:-1, {v:k for k,v in enumerate(itos2)})\n",
        "\n",
        "new_w = np.zeros((vs, em_sz), dtype=np.float32)\n",
        "for i,w in enumerate(itos):\n",
        "    r = stoi2[w]\n",
        "    new_w[i] = enc_wgts[r] if r>=0 else row_m"
      ],
      "execution_count": 0,
      "outputs": []
    },
    {
      "metadata": {
        "id": "zceOkQPmifhE",
        "colab_type": "code",
        "colab": {}
      },
      "cell_type": "code",
      "source": [
        "# Use the new embedding matrix for the pre-trained model\n",
        "wgts['0.encoder.weight'] = T(new_w)\n",
        "wgts['0.encoder_with_dropout.embed.weight'] = T(np.copy(new_w))\n",
        "wgts['1.decoder.weight'] = T(np.copy(new_w))"
      ],
      "execution_count": 0,
      "outputs": []
    },
    {
      "metadata": {
        "id": "pggOsB4sifhH",
        "colab_type": "code",
        "colab": {}
      },
      "cell_type": "code",
      "source": [
        "# Define the learner object to do the fine-tuning\n",
        "# Here we will freeze everything except the embedding layer, so that we can have a better \n",
        "# embedding for unknown words than just the mean embedding on which we initialise it.\n",
        "wd=1e-7\n",
        "bptt=70\n",
        "bs=52\n",
        "opt_fn = partial(optim.Adam, betas=(0.8, 0.99))\n",
        "\n",
        "trn_dl = LanguageModelLoader(np.concatenate(trn_lm), bs, bptt)\n",
        "val_dl = LanguageModelLoader(np.concatenate(val_lm), bs, bptt)\n",
        "md = LanguageModelData(PATH, 1, vs, trn_dl, val_dl, bs=bs, bptt=bptt)\n",
        "\n",
        "drops = np.array([0.25, 0.1, 0.2, 0.02, 0.15])*0.7\n",
        "\n",
        "learner= md.get_model(opt_fn, em_sz, nh, nl, \n",
        "    dropouti=drops[0], dropout=drops[1], wdrop=drops[2], dropoute=drops[3], dropouth=drops[4])\n",
        "\n",
        "learner.metrics = [accuracy]\n",
        "learner.freeze_to(-1)\n",
        "\n",
        "learner.model.load_state_dict(wgts)\n",
        "\n",
        "lr=1e-3\n",
        "lrs = lr"
      ],
      "execution_count": 0,
      "outputs": []
    },
    {
      "metadata": {
        "id": "TS0ZjK_JifhL",
        "colab_type": "code",
        "colab": {}
      },
      "cell_type": "code",
      "source": [
        "# Run one epoch of fine-tuning \n",
        "learner.fit(lrs/2, 1, wds=wd, use_clr=(32,2), cycle_len=1)"
      ],
      "execution_count": 0,
      "outputs": []
    },
    {
      "metadata": {
        "id": "9_t_ZaYIifhO",
        "colab_type": "code",
        "colab": {}
      },
      "cell_type": "code",
      "source": [
        "# Save the fine-tuned model and unfreeze everything to later fine-tune the whole model\n",
        "learner.save('lm_last_ft')\n",
        "learner.load('lm_last_ft')\n",
        "learner.unfreeze()"
      ],
      "execution_count": 0,
      "outputs": []
    },
    {
      "metadata": {
        "id": "nZ5re6TjifhQ",
        "colab_type": "code",
        "colab": {}
      },
      "cell_type": "code",
      "source": [
        "learner.lr_find(start_lr=lrs/10, end_lr=lrs*10, linear=True)"
      ],
      "execution_count": 0,
      "outputs": []
    },
    {
      "metadata": {
        "id": "bLjk62OSifhU",
        "colab_type": "code",
        "colab": {}
      },
      "cell_type": "code",
      "source": [
        "learner.sched.plot()"
      ],
      "execution_count": 0,
      "outputs": []
    },
    {
      "metadata": {
        "id": "Y7iWrHMYifhZ",
        "colab_type": "code",
        "colab": {}
      },
      "cell_type": "code",
      "source": [
        "# Run this if you want to highly tune the LM to the Amazon data, with 15 epochs\n",
        "# use_clr controls the shape of the cyclical (triangular) learning rate\n",
        "learner.fit(lrs, 1, wds=wd, use_clr=(20,10), cycle_len=15)"
      ],
      "execution_count": 0,
      "outputs": []
    },
    {
      "metadata": {
        "id": "xUV9iHc9ifhb",
        "colab_type": "code",
        "colab": {}
      },
      "cell_type": "code",
      "source": [
        "# Save the Backbone for further classification!!\n",
        "learner.save('lm1')\n",
        "learner.save_encoder('lm1_enc')"
      ],
      "execution_count": 0,
      "outputs": []
    },
    {
      "metadata": {
        "id": "4V3XhAukifhc",
        "colab_type": "code",
        "colab": {}
      },
      "cell_type": "code",
      "source": [
        "learner.sched.plot_loss()"
      ],
      "execution_count": 0,
      "outputs": []
    },
    {
      "metadata": {
        "id": "zGJ9fV_Difhf",
        "colab_type": "text"
      },
      "cell_type": "markdown",
      "source": [
        "# Going back to classification!"
      ]
    },
    {
      "metadata": {
        "id": "svJCQQ-sifhg",
        "colab_type": "text"
      },
      "cell_type": "markdown",
      "source": [
        "Now that we spent some time fine-tuning the language model on our Amazon data, let's see if we can classify easily these reviews.\n",
        "As before, some cells should be run once, and then use data loaders for later use."
      ]
    },
    {
      "metadata": {
        "id": "mPkDJ9sLifhg",
        "colab_type": "code",
        "colab": {}
      },
      "cell_type": "code",
      "source": [
        "df_trn = pd.read_csv(CLAS_PATH/'train.csv', header=None, chunksize=chunksize)\n",
        "df_val = pd.read_csv(CLAS_PATH/'test.csv', header=None, chunksize=chunksize)"
      ],
      "execution_count": 0,
      "outputs": []
    },
    {
      "metadata": {
        "id": "OELAfoM_ifhi",
        "colab_type": "code",
        "colab": {}
      },
      "cell_type": "code",
      "source": [
        "tok_trn, trn_labels = get_all(df_trn, 1)\n",
        "tok_val, val_labels = get_all(df_val, 1)"
      ],
      "execution_count": 0,
      "outputs": []
    },
    {
      "metadata": {
        "id": "STFczwD6ifhk",
        "colab_type": "code",
        "colab": {}
      },
      "cell_type": "code",
      "source": [
        "(CLAS_PATH/'tmp').mkdir(exist_ok=True)\n",
        "\n",
        "np.save(CLAS_PATH/'tmp'/'tok_trn.npy', tok_trn)\n",
        "np.save(CLAS_PATH/'tmp'/'tok_val.npy', tok_val)\n",
        "\n",
        "np.save(CLAS_PATH/'tmp'/'trn_labels.npy', trn_labels)\n",
        "np.save(CLAS_PATH/'tmp'/'val_labels.npy', val_labels)"
      ],
      "execution_count": 0,
      "outputs": []
    },
    {
      "metadata": {
        "id": "rVGvPRc9ifhm",
        "colab_type": "code",
        "colab": {},
        "outputId": "d164f8ef-79da-4953-8079-8798d52125e4"
      },
      "cell_type": "code",
      "source": [
        "tok_trn = np.load(CLAS_PATH/'tmp'/'tok_trn.npy')\n",
        "tok_val = np.load(CLAS_PATH/'tmp'/'tok_val.npy')\n",
        "itos = pickle.load((LM_PATH/'tmp'/'itos.pkl').open('rb'))\n",
        "stoi = collections.defaultdict(lambda:0, {v:k for k,v in enumerate(itos)})\n",
        "len(itos)"
      ],
      "execution_count": 0,
      "outputs": [
        {
          "output_type": "execute_result",
          "data": {
            "text/plain": [
              "60002"
            ]
          },
          "metadata": {
            "tags": []
          },
          "execution_count": 4
        }
      ]
    },
    {
      "metadata": {
        "id": "V2Ws1grbifhu",
        "colab_type": "code",
        "colab": {}
      },
      "cell_type": "code",
      "source": [
        "trn_clas = np.array([[stoi[o] for o in p] for p in tok_trn])\n",
        "val_clas = np.array([[stoi[o] for o in p] for p in tok_val])\n",
        "\n",
        "np.save(CLAS_PATH/'tmp'/'trn_ids.npy', trn_clas)\n",
        "np.save(CLAS_PATH/'tmp'/'val_ids.npy', val_clas)"
      ],
      "execution_count": 0,
      "outputs": []
    },
    {
      "metadata": {
        "id": "6bXvrHJWifhw",
        "colab_type": "text"
      },
      "cell_type": "markdown",
      "source": [
        "# Classifier\n",
        "In this part, we adopt an unusual train/test hierarchy. While it's common to train on a big dataset and thewn test on a small one, here we wanrt to test the hypothesis that the model can learn with few training data. Hence we take less data for training than for testing."
      ]
    },
    {
      "metadata": {
        "id": "2_O9Fv3Gifhw",
        "colab_type": "code",
        "colab": {}
      },
      "cell_type": "code",
      "source": [
        "# We select here the 'size' first reviews of our dataset\n",
        "# The paper claims that it's possible to achieve very good results with few labeled examples\n",
        "# So let's try with 100 examples for training, and 5000 examples for validation.\n",
        "# We encourage you to try different values to see the effect of data size on performance.\n",
        "trn_size = 100\n",
        "val_size = 5000\n",
        "trn_clas = np.load(CLAS_PATH/'tmp'/'trn_ids.npy')\n",
        "val_clas = np.load(CLAS_PATH/'tmp'/'val_ids.npy')\n",
        "\n",
        "trn_labels = np.squeeze(np.load(CLAS_PATH/'tmp'/'trn_labels.npy'))\n",
        "val_labels = np.squeeze(np.load(CLAS_PATH/'tmp'/'val_labels.npy'))\n",
        "\n",
        "train = random.sample(list(zip(trn_clas, trn_labels)), trn_size)\n",
        "trn_clas = np.array([item[0] for item in train])\n",
        "trn_labels = np.array([item[1] for item in train])\n",
        "del train\n",
        "\n",
        "validation = random.sample(list(zip(val_clas, val_labels)), val_size)\n",
        "val_clas = np.array([item[0] for item in validation])\n",
        "val_labels = np.array([item[1] for item in validation])\n",
        "del validation\n",
        "\n",
        "\n",
        "bptt,em_sz,nh,nl = 70,400,1150,3\n",
        "vs = len(itos)\n",
        "opt_fn = partial(optim.Adam, betas=(0.8, 0.99))\n",
        "bs = 48\n",
        "\n",
        "min_lbl = trn_labels.min()\n",
        "trn_labels -= min_lbl\n",
        "val_labels -= min_lbl\n",
        "c=int(trn_labels.max())+1"
      ],
      "execution_count": 0,
      "outputs": []
    },
    {
      "metadata": {
        "id": "L5lEZKwwifhy",
        "colab_type": "code",
        "colab": {}
      },
      "cell_type": "code",
      "source": [
        "# Ccheck that the validation dataset is well balanced so acccuracy is a good metric\n",
        "# We'll also check other metrics usual for binary classification (precision, recall, f1 score)\n",
        "len(trn_labels[trn_labels == 1]) / len(trn_labels)"
      ],
      "execution_count": 0,
      "outputs": []
    },
    {
      "metadata": {
        "id": "-8AckmXwifhz",
        "colab_type": "code",
        "colab": {}
      },
      "cell_type": "code",
      "source": [
        "trn_ds = TextDataset(trn_clas, trn_labels)\n",
        "val_ds = TextDataset(val_clas, val_labels)\n",
        "trn_samp = SortishSampler(trn_clas, key=lambda x: len(trn_clas[x]), bs=bs//2)\n",
        "val_samp = SortSampler(val_clas, key=lambda x: len(val_clas[x]))\n",
        "trn_dl = DataLoader(trn_ds, bs//2, transpose=True, num_workers=1, pad_idx=1, sampler=trn_samp)\n",
        "val_dl = DataLoader(val_ds, bs, transpose=True, num_workers=1, pad_idx=1, sampler=val_samp)"
      ],
      "execution_count": 0,
      "outputs": []
    },
    {
      "metadata": {
        "id": "N_nF_hJ-ifh3",
        "colab_type": "code",
        "colab": {}
      },
      "cell_type": "code",
      "source": [
        "# We define the model, here it a classifier on top of an RNN language model\n",
        "# We load the language model encoder that we fine tuned before\n",
        "# We freeze everything but the last layer, so that we can train the classification layer only.\n",
        "#load the saved weights from before, and freeze everything until the last layer\n",
        "\n",
        "md = ModelData(PATH, trn_dl, val_dl)\n",
        "dps = np.array([0.4, 0.5, 0.05, 0.3, 0.1])\n",
        "\n",
        "m = get_rnn_classifier(bptt, 20*70, c, vs, emb_sz=em_sz, n_hid=nh, n_layers=nl, pad_token=1,\n",
        "          layers=[em_sz*3, 50, c], drops=[dps[4], 0.1],\n",
        "          dropouti=dps[0], wdrop=dps[1], dropoute=dps[2], dropouth=dps[3])\n",
        "\n",
        "opt_fn = partial(optim.Adam, betas=(0.7, 0.99))\n",
        "\n",
        "learn = RNN_Learner(md, TextModel(to_gpu(m)), opt_fn=opt_fn)\n",
        "learn.reg_fn = partial(seq2seq_reg, alpha=2, beta=1)\n",
        "learn.clip=25.\n",
        "learn.metrics = [accuracy]\n",
        "\n",
        "lr=3e-3\n",
        "lrm = 2.6\n",
        "lrs = np.array([lr/(lrm**4), lr/(lrm**3), lr/(lrm**2), lr/lrm, lr])\n",
        "\n",
        "lrs=np.array([1e-4,1e-4,1e-4,1e-3,1e-2])\n",
        "\n",
        "wd = 1e-7\n",
        "wd = 0\n",
        "learn.load_encoder('lm1_enc')\n",
        "\n",
        "learn.freeze_to(-1)"
      ],
      "execution_count": 0,
      "outputs": []
    },
    {
      "metadata": {
        "id": "mNgGl8G-ifh6",
        "colab_type": "code",
        "colab": {}
      },
      "cell_type": "code",
      "source": [
        "learn.lr_find(lrs/1000)"
      ],
      "execution_count": 0,
      "outputs": []
    },
    {
      "metadata": {
        "id": "7S0U-X5nifh8",
        "colab_type": "code",
        "colab": {}
      },
      "cell_type": "code",
      "source": [
        "learn.sched.plot()"
      ],
      "execution_count": 0,
      "outputs": []
    },
    {
      "metadata": {
        "id": "yp9H-zyhifh_",
        "colab_type": "code",
        "colab": {}
      },
      "cell_type": "code",
      "source": [
        "# Run one epoch on the classification layer\n",
        "learn.fit(lrs, 1, wds=wd, cycle_len=1, use_clr=(8,3))"
      ],
      "execution_count": 0,
      "outputs": []
    },
    {
      "metadata": {
        "id": "MDY2PRaeifiD",
        "colab_type": "code",
        "colab": {}
      },
      "cell_type": "code",
      "source": [
        "# Save the trained model\n",
        "learn.save('clas_0')\n",
        "learn.load('clas_0')"
      ],
      "execution_count": 0,
      "outputs": []
    },
    {
      "metadata": {
        "id": "ilkyQyhNifiE",
        "colab_type": "code",
        "colab": {}
      },
      "cell_type": "code",
      "source": [
        "# Gradually unfreeze another layer to train a bit more parameters than just the classifier layer\n",
        "learn.freeze_to(-2)\n",
        "learn.fit(lrs, 1, wds=wd, cycle_len=1, use_clr=(8,3))"
      ],
      "execution_count": 0,
      "outputs": []
    },
    {
      "metadata": {
        "id": "FRDqBfnWifiG",
        "colab_type": "code",
        "colab": {}
      },
      "cell_type": "code",
      "source": [
        "# Save the trained model\n",
        "learn.save('clas_1')\n",
        "learn.load('clas_1')"
      ],
      "execution_count": 0,
      "outputs": []
    },
    {
      "metadata": {
        "id": "4kbWM7FUifiK",
        "colab_type": "code",
        "colab": {}
      },
      "cell_type": "code",
      "source": [
        "# Unfreeze everything and train for a few epochs on the whole set of parameters of the model\n",
        "learn.unfreeze()\n",
        "learn.fit(lrs, 1, wds=wd, cycle_len=14, use_clr=(32,10))"
      ],
      "execution_count": 0,
      "outputs": []
    },
    {
      "metadata": {
        "id": "qUdQCdFCifiM",
        "colab_type": "code",
        "colab": {}
      },
      "cell_type": "code",
      "source": [
        "learn.sched.plot_loss()"
      ],
      "execution_count": 0,
      "outputs": []
    },
    {
      "metadata": {
        "id": "XWWxZVJyifiO",
        "colab_type": "code",
        "colab": {}
      },
      "cell_type": "code",
      "source": [
        "# Save the model\n",
        "learn.save('clas_2')"
      ],
      "execution_count": 0,
      "outputs": []
    },
    {
      "metadata": {
        "id": "TenH511JifiQ",
        "colab_type": "text"
      },
      "cell_type": "markdown",
      "source": [
        "# Inference\n",
        "Nonw, let's play with the model we've just learned!"
      ]
    },
    {
      "metadata": {
        "id": "fwh4-1aeifiQ",
        "colab_type": "code",
        "colab": {}
      },
      "cell_type": "code",
      "source": [
        "m = get_rnn_classifer(bptt, 20*70, c, vs, emb_sz=em_sz, n_hid=nh, n_layers=nl, pad_token=1,\n",
        "          layers=[em_sz*3, 50, c], drops=[dps[4], 0.1],\n",
        "          dropouti=dps[0], wdrop=dps[1], dropoute=dps[2], dropouth=dps[3])\n",
        "opt_fn = partial(optim.Adam, betas=(0.7, 0.99))\n",
        "learn = RNN_Learner(md, TextModel(to_gpu(m)), opt_fn=opt_fn)\n",
        "learn.reg_fn = partial(seq2seq_reg, alpha=2, beta=1)\n",
        "learn.clip=25.\n",
        "learn.metrics = [accuracy]\n",
        "\n",
        "lr=3e-3\n",
        "lrm = 2.6\n",
        "lrs = np.array([lr/(lrm**4), lr/(lrm**3), lr/(lrm**2), lr/lrm, lr])\n",
        "wd = 1e-7\n",
        "wd = 0\n",
        "learn.load_encoder('lm1_enc')\n",
        "learn.load('clas_2')"
      ],
      "execution_count": 0,
      "outputs": []
    },
    {
      "metadata": {
        "id": "VXjKsbGMifiS",
        "colab_type": "code",
        "colab": {}
      },
      "cell_type": "code",
      "source": [
        "def get_sentiment(input_str: str):\n",
        "\n",
        "    # predictions are done on arrays of input.\n",
        "    # We only have a single input, so turn it into a 1x1 array\n",
        "    texts = [input_str]\n",
        "\n",
        "    # tokenize using the fastai wrapper around spacy\n",
        "    tok = [t.split() for t in texts]\n",
        "    # tok = Tokenizer().proc_all_mp(partition_by_cores(texts))\n",
        "\n",
        "    # turn into integers for each word\n",
        "    encoded = [stoi[p] for p in tok[0]]\n",
        "\n",
        "    idx = np.array(encoded)[None]\n",
        "    idx = np.transpose(idx)\n",
        "    tensorIdx = VV(idx)\n",
        "    m.eval()\n",
        "    m.reset()\n",
        "    p = m.forward(tensorIdx)\n",
        "    return np.argmax(p[0][0].data.cpu().numpy())\n",
        "\n",
        "def prediction(texts):\n",
        "    \"\"\"Do the prediction on a list of texts\n",
        "    \"\"\"\n",
        "    y = []\n",
        "    \n",
        "    for i, text in enumerate(texts):\n",
        "        if i % 1000 == 0:\n",
        "            print(i)\n",
        "        encoded = text\n",
        "        idx = np.array(encoded)[None]\n",
        "        idx = np.transpose(idx)\n",
        "        tensorIdx = VV(idx)\n",
        "        m.eval()\n",
        "        m.reset()\n",
        "        p = m.forward(tensorIdx)\n",
        "        y.append(np.argmax(p[0][0].data.cpu().numpy()))\n",
        "    return y"
      ],
      "execution_count": 0,
      "outputs": []
    },
    {
      "metadata": {
        "id": "S9grziDhifiV",
        "colab_type": "code",
        "colab": {}
      },
      "cell_type": "code",
      "source": [
        "sentence = \"I like Feedly\"\n",
        "start = time()\n",
        "print(get_sentiment(sentence))\n",
        "print(time() - start)"
      ],
      "execution_count": 0,
      "outputs": []
    },
    {
      "metadata": {
        "id": "kBeU3lsZifiW",
        "colab_type": "code",
        "colab": {}
      },
      "cell_type": "code",
      "source": [
        "y = prediction(list(val_clas))"
      ],
      "execution_count": 0,
      "outputs": []
    },
    {
      "metadata": {
        "id": "BAhX3D1JifiY",
        "colab_type": "code",
        "colab": {}
      },
      "cell_type": "code",
      "source": [
        "# Show relevant metrics for binary classification\n",
        "# We encourage you to try training the classifier with different data size and its effect on performance\n",
        "print(f'Accuracy --> {accuracy_score(y, val_labels)}')\n",
        "print(f'Precision --> {precision_score(y, val_labels)}')\n",
        "print(f'F1 score --> {f1_score(y, val_labels)}')\n",
        "print(f'Recall score --> {recall_score(y, val_labels)}')\n",
        "print(confusion_matrix(y, val_labels))\n",
        "print(classification_report(y, val_labels))"
      ],
      "execution_count": 0,
      "outputs": []
    },
    {
      "metadata": {
        "id": "a2G65x8oifia",
        "colab_type": "text"
      },
      "cell_type": "markdown",
      "source": [
        "# What training size do we need?\n",
        "The language model has already learnt a lot about the syntax. It is very knowledgeable about the context in which words appear in sentences. However, the language model does not contain any notion of [meaning](https://en.wikipedia.org/wiki/Meaning_%28linguistics%29). This problem is well summarised in [Emily Bender's tweet](https://twitter.com/emilymbender/status/1024042044035985408) during a very interesting twiter thread that occur in July around meaning in NLP. A cool summary of this thread can be found in the [Hugging Face](https://medium.com/huggingface/learning-meaning-in-natural-language-processing-the-semantics-mega-thread-9c0332dfe28e) blogpost. Hence the meaning in language is very likely to be learned through supervision, with the help of ground-truth examples.\n",
        "\n",
        "However, when we perform some NLP tasks, sentiment analysis in our example, both syntax and meaning are important!\n",
        "The idea is that you can save a lot of time by being taught with a lot of blind synatx first, and then learning meaning. Think of when you start learning a complete new field. Well, it is far easier to learn it in your mother tongue than in another language you master less. \n",
        "\n",
        "The big practical gain here is that once you \"know\" a language, you need less supervised examples to learn a new thing! In our example, it means we need less labeled reviews for us to learn a relevant classifier.\n",
        "\n",
        "Let's verify this hypothesis by training a classifier with several training size and see how this size affects the performance!"
      ]
    },
    {
      "metadata": {
        "id": "jTeGzAKzific",
        "colab_type": "code",
        "colab": {}
      },
      "cell_type": "code",
      "source": [
        "trn_clas = np.load(CLAS_PATH/'tmp'/'trn_ids.npy')\n",
        "val_clas = np.load(CLAS_PATH/'tmp'/'val_ids.npy')\n",
        "\n",
        "trn_labels = np.squeeze(np.load(CLAS_PATH/'tmp'/'trn_labels.npy'))\n",
        "val_labels = np.squeeze(np.load(CLAS_PATH/'tmp'/'val_labels.npy'))"
      ],
      "execution_count": 0,
      "outputs": []
    },
    {
      "metadata": {
        "id": "46col76aifif",
        "colab_type": "code",
        "colab": {}
      },
      "cell_type": "code",
      "source": [
        "def experiment(trn_size, val_size):\n",
        "\n",
        "    train = random.sample(list(zip(trn_clas, trn_labels)), trn_size)\n",
        "    aux_trn_clas = np.array([item[0] for item in train])\n",
        "    aux_trn_labels = np.array([item[1] for item in train])\n",
        "    del train\n",
        "\n",
        "    validation = random.sample(list(zip(val_clas, val_labels)), val_size)\n",
        "    aux_val_clas = np.array([item[0] for item in validation])\n",
        "    aux_val_labels = np.array([item[1] for item in validation])\n",
        "    del validation\n",
        "\n",
        "\n",
        "    bptt,em_sz,nh,nl = 70,400,1150,3\n",
        "    vs = len(itos)\n",
        "    opt_fn = partial(optim.Adam, betas=(0.8, 0.99))\n",
        "    bs = 48\n",
        "\n",
        "    min_lbl = aux_trn_labels.min()\n",
        "    aux_trn_labels -= min_lbl\n",
        "    aux_val_labels -= min_lbl\n",
        "    c=int(aux_trn_labels.max())+1\n",
        "\n",
        "    # Load data in relevant structures\n",
        "    trn_ds = TextDataset(aux_trn_clas, aux_trn_labels)\n",
        "    val_ds = TextDataset(aux_val_clas, aux_val_labels)\n",
        "    trn_samp = SortishSampler(aux_trn_clas, key=lambda x: len(aux_trn_clas[x]), bs=bs//2)\n",
        "    val_samp = SortSampler(aux_val_clas, key=lambda x: len(aux_val_clas[x]))\n",
        "    trn_dl = DataLoader(trn_ds, bs//2, transpose=True, num_workers=1, pad_idx=1, sampler=trn_samp)\n",
        "    val_dl = DataLoader(val_ds, bs, transpose=True, num_workers=1, pad_idx=1, sampler=val_samp)\n",
        "\n",
        "    # Define the model and load the backbone lamguage model\n",
        "    md = ModelData(PATH, trn_dl, val_dl)\n",
        "    dps = np.array([0.4, 0.5, 0.05, 0.3, 0.1])\n",
        "\n",
        "    m = get_rnn_classifier(bptt, 20*70, c, vs, emb_sz=em_sz, n_hid=nh, n_layers=nl, pad_token=1,\n",
        "              layers=[em_sz*3, 50, c], drops=[dps[4], 0.1],\n",
        "              dropouti=dps[0], wdrop=dps[1], dropoute=dps[2], dropouth=dps[3])\n",
        "\n",
        "    opt_fn = partial(optim.Adam, betas=(0.7, 0.99))\n",
        "\n",
        "    learn = RNN_Learner(md, TextModel(to_gpu(m)), opt_fn=opt_fn)\n",
        "    learn.reg_fn = partial(seq2seq_reg, alpha=2, beta=1)\n",
        "    learn.clip=25.\n",
        "    learn.metrics = [accuracy]\n",
        "\n",
        "    lr=3e-3\n",
        "    lrm = 2.6\n",
        "    lrs = np.array([lr/(lrm**4), lr/(lrm**3), lr/(lrm**2), lr/lrm, lr])\n",
        "\n",
        "    lrs=np.array([1e-4,1e-4,1e-4,1e-3,1e-2])\n",
        "\n",
        "    wd = 1e-7\n",
        "    wd = 0\n",
        "    learn.load_encoder('lm1_enc')\n",
        "\n",
        "    learn.freeze_to(-1)\n",
        "\n",
        "    # Find th learning rate\n",
        "    learn.lr_find(lrs/1000)\n",
        "\n",
        "    # Run one epoch on the classification layer\n",
        "    learn.fit(lrs, 1, wds=wd, cycle_len=1, use_clr=(8,3))\n",
        "\n",
        "    # Save the trained model\n",
        "    learn.save(f'{trn_size}clas_0')\n",
        "    learn.load(f'{trn_size}clas_0')\n",
        "\n",
        "    # Gradually unfreeze another layer to train a bit more parameters than just the classifier layer\n",
        "    learn.freeze_to(-2)\n",
        "    learn.fit(lrs, 1, wds=wd, cycle_len=1, use_clr=(8,3))\n",
        "\n",
        "    # Save the trained model\n",
        "    learn.save(f'{trn_size}clas_1')\n",
        "    learn.load(f'{trn_size}clas_1')\n",
        "\n",
        "    # Unfreeze everything and train for a few epochs on the whole set of parameters of the model\n",
        "    learn.unfreeze()\n",
        "    learn.fit(lrs, 1, wds=wd, cycle_len=14, use_clr=(32,10))\n",
        "\n",
        "    # Save the model\n",
        "    learn.sched.plot_loss()\n",
        "    learn.save(f'{trn_size}clas_2')"
      ],
      "execution_count": 0,
      "outputs": []
    },
    {
      "metadata": {
        "id": "rF2ypGx9ifij",
        "colab_type": "code",
        "colab": {},
        "outputId": "d234fd93-2c87-4586-9b13-a55e91e8b88a"
      },
      "cell_type": "code",
      "source": [
        "from time import time\n",
        "val_size = 100000\n",
        "for trn_size in [50, 100, 500, 1000, 5000, 10000, 20000, 50000]:\n",
        "    print('#'*50)\n",
        "    print(f'Experiment with training size {trn_size}')\n",
        "    start = time()\n",
        "    experiment(trn_size, val_size)\n",
        "    t = time() - start\n",
        "    print(f'Time cost: {t}')"
      ],
      "execution_count": 0,
      "outputs": [
        {
          "output_type": "stream",
          "text": [
            "##################################################\n",
            "Experiment with training size 50\n"
          ],
          "name": "stdout"
        },
        {
          "output_type": "display_data",
          "data": {
            "application/vnd.jupyter.widget-view+json": {
              "model_id": "527d42dc659a450da6729240a5031473",
              "version_major": 2,
              "version_minor": 0
            },
            "text/plain": [
              "HBox(children=(IntProgress(value=0, description='Epoch', max=1), HTML(value='')))"
            ]
          },
          "metadata": {
            "tags": []
          }
        },
        {
          "output_type": "stream",
          "text": [
            "epoch      trn_loss   val_loss   accuracy                \n",
            "    0      0.739306   0.713452   0.515713  \n"
          ],
          "name": "stdout"
        },
        {
          "output_type": "display_data",
          "data": {
            "application/vnd.jupyter.widget-view+json": {
              "model_id": "ee8c2bcd3caa40509641c4735fa0af4f",
              "version_major": 2,
              "version_minor": 0
            },
            "text/plain": [
              "HBox(children=(IntProgress(value=0, description='Epoch', max=1), HTML(value='')))"
            ]
          },
          "metadata": {
            "tags": []
          }
        },
        {
          "output_type": "stream",
          "text": [
            "epoch      trn_loss   val_loss   accuracy                \n",
            "    0      0.780253   0.682528   0.60368   \n"
          ],
          "name": "stdout"
        },
        {
          "output_type": "display_data",
          "data": {
            "application/vnd.jupyter.widget-view+json": {
              "model_id": "4d79ca2874ce4160a029781cd75042f8",
              "version_major": 2,
              "version_minor": 0
            },
            "text/plain": [
              "HBox(children=(IntProgress(value=0, description='Epoch', max=1), HTML(value='')))"
            ]
          },
          "metadata": {
            "tags": []
          }
        },
        {
          "output_type": "stream",
          "text": [
            "epoch      trn_loss   val_loss   accuracy                \n",
            "    0      0.480616   0.665205   0.64434   \n"
          ],
          "name": "stdout"
        },
        {
          "output_type": "display_data",
          "data": {
            "application/vnd.jupyter.widget-view+json": {
              "model_id": "ff07a3dc2f0341b5953d7589bc45d242",
              "version_major": 2,
              "version_minor": 0
            },
            "text/plain": [
              "HBox(children=(IntProgress(value=0, description='Epoch', max=14), HTML(value='')))"
            ]
          },
          "metadata": {
            "tags": []
          }
        },
        {
          "output_type": "stream",
          "text": [
            "    1      0.60659    0.642443   0.60112                 \n",
            "    2      0.61519    0.619721   0.69608                 \n",
            "    3      0.642923   0.626678   0.61732                 \n",
            "    4      0.652647   0.660426   0.51752                 \n",
            "    5      0.602682   0.620081   0.5915                  \n",
            "    6      0.594284   0.584023   0.66818                 \n",
            "    7      0.58685    0.559354   0.73106                 \n",
            "    8      0.55382    0.540782   0.77018                 \n",
            "    9      0.52772    0.527295   0.79862                 \n",
            "    10     0.518118   0.487917   0.83798                 \n",
            "    11     0.518521   0.461052   0.84442                 \n",
            "    12     0.53044    0.453327   0.84558                 \n",
            "    13     0.510322   0.468408   0.83854                 \n",
            "Time cost: 3158.540988445282\n",
            "##################################################\n",
            "Experiment with training size 100\n"
          ],
          "name": "stdout"
        },
        {
          "output_type": "display_data",
          "data": {
            "application/vnd.jupyter.widget-view+json": {
              "model_id": "ad60ac5683bd408992d4c89c436c2daf",
              "version_major": 2,
              "version_minor": 0
            },
            "text/plain": [
              "HBox(children=(IntProgress(value=0, description='Epoch', max=1), HTML(value='')))"
            ]
          },
          "metadata": {
            "tags": []
          }
        },
        {
          "output_type": "stream",
          "text": [
            "epoch      trn_loss   val_loss   accuracy                \n",
            "    0      0.598895   78.284828  0.482651  \n"
          ],
          "name": "stdout"
        },
        {
          "output_type": "display_data",
          "data": {
            "application/vnd.jupyter.widget-view+json": {
              "model_id": "5124bc474f48464487b3f3e1b58ae6bc",
              "version_major": 2,
              "version_minor": 0
            },
            "text/plain": [
              "HBox(children=(IntProgress(value=0, description='Epoch', max=1), HTML(value='')))"
            ]
          },
          "metadata": {
            "tags": []
          }
        },
        {
          "output_type": "stream",
          "text": [
            "epoch      trn_loss   val_loss   accuracy                \n",
            "    0      0.62033    0.664568   0.71318   \n"
          ],
          "name": "stdout"
        },
        {
          "output_type": "display_data",
          "data": {
            "application/vnd.jupyter.widget-view+json": {
              "model_id": "e5fe7d0a84f64499b389d7c14a44854f",
              "version_major": 2,
              "version_minor": 0
            },
            "text/plain": [
              "HBox(children=(IntProgress(value=0, description='Epoch', max=1), HTML(value='')))"
            ]
          },
          "metadata": {
            "tags": []
          }
        },
        {
          "output_type": "stream",
          "text": [
            "epoch      trn_loss   val_loss   accuracy                \n",
            "    0      0.602062   0.617134   0.74574   \n"
          ],
          "name": "stdout"
        },
        {
          "output_type": "display_data",
          "data": {
            "application/vnd.jupyter.widget-view+json": {
              "model_id": "aaeca1c3aa2b4a9cbeabe672487990fb",
              "version_major": 2,
              "version_minor": 0
            },
            "text/plain": [
              "HBox(children=(IntProgress(value=0, description='Epoch', max=14), HTML(value='')))"
            ]
          },
          "metadata": {
            "tags": []
          }
        },
        {
          "output_type": "stream",
          "text": [
            "epoch      trn_loss   val_loss   accuracy                \n",
            "    0      0.509279   0.616894   0.58494   \n",
            "    1      0.528293   0.574365   0.69924                 \n",
            "    2      0.496826   0.544474   0.75798                 \n",
            "    3      0.478803   0.559163   0.6684                  \n",
            "    4      0.442439   0.568413   0.64396                 \n",
            "    5      0.45688    0.435576   0.82176                 \n",
            "    6      0.438374   0.401803   0.87232                 \n",
            "    7      0.435346   0.382793   0.86982                 \n",
            "    8      0.430963   0.38687    0.86138                 \n",
            "    9      0.421749   0.363613   0.86442                 \n",
            "    10     0.404818   0.347554   0.87324                 \n",
            "    11     0.402366   0.34878    0.8688                  \n",
            "    12     0.420744   0.341431   0.86758                 \n",
            "    13     0.405834   0.34154    0.86362                 \n",
            "Time cost: 3164.5589134693146\n",
            "##################################################\n",
            "Experiment with training size 500\n"
          ],
          "name": "stdout"
        },
        {
          "output_type": "display_data",
          "data": {
            "application/vnd.jupyter.widget-view+json": {
              "model_id": "fb902a8b103341478714ea65b737d627",
              "version_major": 2,
              "version_minor": 0
            },
            "text/plain": [
              "HBox(children=(IntProgress(value=0, description='Epoch', max=1), HTML(value='')))"
            ]
          },
          "metadata": {
            "tags": []
          }
        },
        {
          "output_type": "stream",
          "text": [
            "                                                           \r"
          ],
          "name": "stdout"
        },
        {
          "output_type": "display_data",
          "data": {
            "application/vnd.jupyter.widget-view+json": {
              "model_id": "8503deab63514cf4ad216d70c1c6d27e",
              "version_major": 2,
              "version_minor": 0
            },
            "text/plain": [
              "HBox(children=(IntProgress(value=0, description='Epoch', max=1), HTML(value='')))"
            ]
          },
          "metadata": {
            "tags": []
          }
        },
        {
          "output_type": "stream",
          "text": [
            "epoch      trn_loss   val_loss   accuracy                  \n",
            "    0      0.531424   0.558967   0.85856   \n"
          ],
          "name": "stdout"
        },
        {
          "output_type": "display_data",
          "data": {
            "application/vnd.jupyter.widget-view+json": {
              "model_id": "09bb2a30cd8c41f89c4f419b504d5a87",
              "version_major": 2,
              "version_minor": 0
            },
            "text/plain": [
              "HBox(children=(IntProgress(value=0, description='Epoch', max=1), HTML(value='')))"
            ]
          },
          "metadata": {
            "tags": []
          }
        },
        {
          "output_type": "stream",
          "text": [
            "epoch      trn_loss   val_loss   accuracy                  \n",
            "    0      0.427045   0.402448   0.88602   \n"
          ],
          "name": "stdout"
        },
        {
          "output_type": "display_data",
          "data": {
            "application/vnd.jupyter.widget-view+json": {
              "model_id": "4a15c2e251094cbf8b86b7eae495b92d",
              "version_major": 2,
              "version_minor": 0
            },
            "text/plain": [
              "HBox(children=(IntProgress(value=0, description='Epoch', max=14), HTML(value='')))"
            ]
          },
          "metadata": {
            "tags": []
          }
        },
        {
          "output_type": "stream",
          "text": [
            "epoch      trn_loss   val_loss   accuracy                  \n",
            "    0      0.43276    0.325113   0.88386   \n",
            "    1      0.439859   0.350954   0.85564                   \n",
            "    2      0.420882   0.301699   0.88072                   \n",
            "    3      0.408916   0.243965   0.91232                   \n",
            "    4      0.385137   0.265443   0.8924                    \n",
            "    5      0.374238   0.249731   0.89888                   \n",
            "    6      0.397431   0.265853   0.90392                   \n",
            "    7      0.388508   0.256725   0.90612                   \n",
            "    8      0.405042   0.269658   0.90676                   \n",
            "    9      0.3749     0.278558   0.89718                   \n",
            "    10     0.378312   0.280107   0.89688                   \n",
            "    11     0.368829   0.269968   0.90122                   \n",
            "    12     0.412016   0.274945   0.90104                   \n",
            "    13     0.399776   0.281551   0.89786                   \n",
            "Time cost: 3095.5910897254944\n",
            "##################################################\n",
            "Experiment with training size 1000\n"
          ],
          "name": "stdout"
        },
        {
          "output_type": "display_data",
          "data": {
            "application/vnd.jupyter.widget-view+json": {
              "model_id": "612a9871f9a84d9cbaf1d58e8471a242",
              "version_major": 2,
              "version_minor": 0
            },
            "text/plain": [
              "HBox(children=(IntProgress(value=0, description='Epoch', max=1), HTML(value='')))"
            ]
          },
          "metadata": {
            "tags": []
          }
        },
        {
          "output_type": "stream",
          "text": [
            "                                                           \r"
          ],
          "name": "stdout"
        },
        {
          "output_type": "display_data",
          "data": {
            "application/vnd.jupyter.widget-view+json": {
              "model_id": "c0caf2cfa4414c0080a551270ba43207",
              "version_major": 2,
              "version_minor": 0
            },
            "text/plain": [
              "HBox(children=(IntProgress(value=0, description='Epoch', max=1), HTML(value='')))"
            ]
          },
          "metadata": {
            "tags": []
          }
        },
        {
          "output_type": "stream",
          "text": [
            "epoch      trn_loss   val_loss   accuracy                  \n",
            "    0      0.538816   0.369876   0.90136   \n"
          ],
          "name": "stdout"
        },
        {
          "output_type": "display_data",
          "data": {
            "application/vnd.jupyter.widget-view+json": {
              "model_id": "b6f8e0bf835441088904e22ce529794b",
              "version_major": 2,
              "version_minor": 0
            },
            "text/plain": [
              "HBox(children=(IntProgress(value=0, description='Epoch', max=1), HTML(value='')))"
            ]
          },
          "metadata": {
            "tags": []
          }
        },
        {
          "output_type": "stream",
          "text": [
            "epoch      trn_loss   val_loss   accuracy                  \n",
            "    0      0.453464   0.315374   0.88258   \n"
          ],
          "name": "stdout"
        },
        {
          "output_type": "display_data",
          "data": {
            "application/vnd.jupyter.widget-view+json": {
              "model_id": "9a52a6708906433c9b1bfde614fcf859",
              "version_major": 2,
              "version_minor": 0
            },
            "text/plain": [
              "HBox(children=(IntProgress(value=0, description='Epoch', max=14), HTML(value='')))"
            ]
          },
          "metadata": {
            "tags": []
          }
        },
        {
          "output_type": "stream",
          "text": [
            "epoch      trn_loss   val_loss   accuracy                  \n",
            "    0      0.404357   0.259631   0.90256   \n",
            "    1      0.419865   0.254745   0.89808                   \n",
            "    2      0.445964   0.268253   0.89904                   \n",
            "    3      0.427022   0.229095   0.91462                   \n",
            "    4      0.414167   0.228874   0.91148                   \n",
            "    5      0.407483   0.219707   0.91912                   \n",
            "    6      0.381847   0.216046   0.9203                    \n",
            "    7      0.365503   0.219289   0.91962                   \n",
            "    8      0.358103   0.213313   0.92152                   \n",
            "    9      0.328652   0.219443   0.91694                   \n",
            "    10     0.360773   0.225698   0.9129                    \n",
            "    11     0.325618   0.216891   0.91786                   \n",
            "    12     0.358954   0.213793   0.91994                   \n",
            "    13     0.324676   0.217357   0.91804                   \n",
            "Time cost: 3222.9498105049133\n",
            "##################################################\n",
            "Experiment with training size 5000\n"
          ],
          "name": "stdout"
        },
        {
          "output_type": "display_data",
          "data": {
            "application/vnd.jupyter.widget-view+json": {
              "model_id": "d427fdd87c0f4503a4071c1af8ab976f",
              "version_major": 2,
              "version_minor": 0
            },
            "text/plain": [
              "HBox(children=(IntProgress(value=0, description='Epoch', max=1), HTML(value='')))"
            ]
          },
          "metadata": {
            "tags": []
          }
        },
        {
          "output_type": "stream",
          "text": [
            " 80%|████████  | 168/209 [00:33<00:08,  5.06it/s, loss=2.11] "
          ],
          "name": "stdout"
        },
        {
          "output_type": "display_data",
          "data": {
            "application/vnd.jupyter.widget-view+json": {
              "model_id": "3eba1d18c6ce49fab0ce55092d8289aa",
              "version_major": 2,
              "version_minor": 0
            },
            "text/plain": [
              "HBox(children=(IntProgress(value=0, description='Epoch', max=1), HTML(value='')))"
            ]
          },
          "metadata": {
            "tags": []
          }
        },
        {
          "output_type": "stream",
          "text": [
            "epoch      trn_loss   val_loss   accuracy                    \n",
            "    0      0.476658   0.251208   0.91892   \n"
          ],
          "name": "stdout"
        },
        {
          "output_type": "display_data",
          "data": {
            "application/vnd.jupyter.widget-view+json": {
              "model_id": "ab5437ff9b5243cfb8167a58dbc9392c",
              "version_major": 2,
              "version_minor": 0
            },
            "text/plain": [
              "HBox(children=(IntProgress(value=0, description='Epoch', max=1), HTML(value='')))"
            ]
          },
          "metadata": {
            "tags": []
          }
        },
        {
          "output_type": "stream",
          "text": [
            "epoch      trn_loss   val_loss   accuracy                    \n",
            "    0      0.433952   0.231621   0.92414   \n"
          ],
          "name": "stdout"
        },
        {
          "output_type": "display_data",
          "data": {
            "application/vnd.jupyter.widget-view+json": {
              "model_id": "b5b7a98c33b14bab9419ff6a0017aca9",
              "version_major": 2,
              "version_minor": 0
            },
            "text/plain": [
              "HBox(children=(IntProgress(value=0, description='Epoch', max=14), HTML(value='')))"
            ]
          },
          "metadata": {
            "tags": []
          }
        },
        {
          "output_type": "stream",
          "text": [
            "epoch      trn_loss   val_loss   accuracy                    \n",
            "    0      0.441624   0.26157    0.91548   \n",
            "    1      0.39728    0.216438   0.92384                     \n",
            "    2      0.409002   0.224356   0.92368                     \n",
            "    3      0.422964   0.215129   0.92208                     \n",
            "    5      0.323477   0.190459   0.92822                     \n",
            "    6      0.359594   0.204132   0.9299                      \n",
            "    7      0.364609   0.197063   0.92962                     \n",
            "    8      0.335434   0.195078   0.93054                     \n",
            "    9      0.344869   0.193901   0.93174                     \n",
            "    10     0.355132   0.204457   0.92736                     \n",
            "    11     0.361977   0.196434   0.92986                     \n",
            "    12     0.335396   0.200645   0.92896                     \n",
            "    13     0.327323   0.20609    0.92624                     \n",
            "Time cost: 4408.779232263565\n",
            "##################################################\n",
            "Experiment with training size 10000\n"
          ],
          "name": "stdout"
        },
        {
          "output_type": "display_data",
          "data": {
            "application/vnd.jupyter.widget-view+json": {
              "model_id": "8f45368cce77460e99e57503a0aaa86a",
              "version_major": 2,
              "version_minor": 0
            },
            "text/plain": [
              "HBox(children=(IntProgress(value=0, description='Epoch', max=1), HTML(value='')))"
            ]
          },
          "metadata": {
            "tags": []
          }
        },
        {
          "output_type": "stream",
          "text": [
            " 77%|███████▋  | 323/417 [00:54<00:15,  5.95it/s, loss=1.4]  "
          ],
          "name": "stdout"
        },
        {
          "output_type": "display_data",
          "data": {
            "application/vnd.jupyter.widget-view+json": {
              "model_id": "2b682accf3d4426db72b169099aebc1b",
              "version_major": 2,
              "version_minor": 0
            },
            "text/plain": [
              "HBox(children=(IntProgress(value=0, description='Epoch', max=1), HTML(value='')))"
            ]
          },
          "metadata": {
            "tags": []
          }
        },
        {
          "output_type": "stream",
          "text": [
            "epoch      trn_loss   val_loss   accuracy                    \n",
            "    0      0.442663   0.237719   0.91894   \n"
          ],
          "name": "stdout"
        },
        {
          "output_type": "display_data",
          "data": {
            "application/vnd.jupyter.widget-view+json": {
              "model_id": "874d6b51c4f741c09dac9aa917dd1b44",
              "version_major": 2,
              "version_minor": 0
            },
            "text/plain": [
              "HBox(children=(IntProgress(value=0, description='Epoch', max=1), HTML(value='')))"
            ]
          },
          "metadata": {
            "tags": []
          }
        },
        {
          "output_type": "stream",
          "text": [
            "epoch      trn_loss   val_loss   accuracy                    \n",
            "    0      0.431919   0.23883    0.92334   \n"
          ],
          "name": "stdout"
        },
        {
          "output_type": "display_data",
          "data": {
            "application/vnd.jupyter.widget-view+json": {
              "model_id": "d92179a697634fa8849aca16e5354f0a",
              "version_major": 2,
              "version_minor": 0
            },
            "text/plain": [
              "HBox(children=(IntProgress(value=0, description='Epoch', max=14), HTML(value='')))"
            ]
          },
          "metadata": {
            "tags": []
          }
        },
        {
          "output_type": "stream",
          "text": [
            "epoch      trn_loss   val_loss   accuracy                    \n",
            "    0      0.423774   0.199739   0.92554   \n",
            "    1      0.400266   0.206542   0.92344                     \n",
            "    2      0.327765   0.191927   0.93002                     \n",
            "    3      0.355688   0.193465   0.92908                     \n",
            "    4      0.336286   0.182849   0.93128                     \n",
            "    5      0.324608   0.18046    0.93278                     \n",
            "    6      0.314902   0.183413   0.93328                     \n",
            "    7      0.328284   0.178485   0.93288                     \n",
            "    8      0.337061   0.180216   0.93436                     \n",
            "    9      0.308937   0.179975   0.9341                      \n",
            "    10     0.290357   0.178364   0.93366                     \n",
            "    11     0.301147   0.175089   0.93584                     \n",
            "    12     0.267383   0.176672   0.934                       \n",
            "    13     0.305133   0.17432    0.93538                     \n",
            "Time cost: 5908.472403526306\n",
            "##################################################\n",
            "Experiment with training size 20000\n"
          ],
          "name": "stdout"
        },
        {
          "output_type": "display_data",
          "data": {
            "application/vnd.jupyter.widget-view+json": {
              "model_id": "9f3ca9f298094380949988fdef48a975",
              "version_major": 2,
              "version_minor": 0
            },
            "text/plain": [
              "HBox(children=(IntProgress(value=0, description='Epoch', max=1), HTML(value='')))"
            ]
          },
          "metadata": {
            "tags": []
          }
        },
        {
          "output_type": "stream",
          "text": [
            " 75%|███████▍  | 623/834 [01:46<00:36,  5.84it/s, loss=1.45] "
          ],
          "name": "stdout"
        },
        {
          "output_type": "display_data",
          "data": {
            "application/vnd.jupyter.widget-view+json": {
              "model_id": "98d4e901bff745158fb949b6967242b1",
              "version_major": 2,
              "version_minor": 0
            },
            "text/plain": [
              "HBox(children=(IntProgress(value=0, description='Epoch', max=1), HTML(value='')))"
            ]
          },
          "metadata": {
            "tags": []
          }
        },
        {
          "output_type": "stream",
          "text": [
            "epoch      trn_loss   val_loss   accuracy                    \n",
            "    0      0.425248   0.229867   0.91804   \n"
          ],
          "name": "stdout"
        },
        {
          "output_type": "display_data",
          "data": {
            "application/vnd.jupyter.widget-view+json": {
              "model_id": "10b105d862fe4db9b180c4122105e5d6",
              "version_major": 2,
              "version_minor": 0
            },
            "text/plain": [
              "HBox(children=(IntProgress(value=0, description='Epoch', max=1), HTML(value='')))"
            ]
          },
          "metadata": {
            "tags": []
          }
        },
        {
          "output_type": "stream",
          "text": [
            "epoch      trn_loss   val_loss   accuracy                    \n",
            "    0      0.410012   0.210839   0.92766   \n"
          ],
          "name": "stdout"
        },
        {
          "output_type": "display_data",
          "data": {
            "application/vnd.jupyter.widget-view+json": {
              "model_id": "c13f18e98fb244a4b86697eec5088914",
              "version_major": 2,
              "version_minor": 0
            },
            "text/plain": [
              "HBox(children=(IntProgress(value=0, description='Epoch', max=14), HTML(value='')))"
            ]
          },
          "metadata": {
            "tags": []
          }
        },
        {
          "output_type": "stream",
          "text": [
            "epoch      trn_loss   val_loss   accuracy                    \n",
            "    0      0.418405   0.202191   0.92848   \n",
            "    1      0.385172   0.21752    0.92934                     \n",
            "    2      0.341867   0.1879     0.93032                     \n",
            "    3      0.343511   0.176737   0.93358                     \n",
            "    4      0.299173   0.169992   0.9357                      \n",
            " 58%|█████▊    | 480/834 [03:46<02:46,  2.12it/s, loss=0.315]"
          ],
          "name": "stdout"
        },
        {
          "output_type": "stream",
          "text": [
            "IOPub message rate exceeded.\n",
            "The notebook server will temporarily stop sending output\n",
            "to the client in order to avoid crashing it.\n",
            "To change this limit, set the config variable\n",
            "`--NotebookApp.iopub_msg_rate_limit`.\n",
            "\n",
            "Current values:\n",
            "NotebookApp.iopub_msg_rate_limit=1000.0 (msgs/sec)\n",
            "NotebookApp.rate_limit_window=3.0 (secs)\n",
            "\n"
          ],
          "name": "stderr"
        },
        {
          "output_type": "stream",
          "text": [
            "    9      0.313465   0.162371   0.93966                     \n",
            "    10     0.2692     0.162227   0.93946                     \n",
            "    11     0.272758   0.159716   0.94032                     \n",
            " 80%|███████▉  | 666/834 [04:43<01:11,  2.35it/s, loss=0.261]"
          ],
          "name": "stdout"
        },
        {
          "output_type": "stream",
          "text": [
            "IOPub message rate exceeded.\n",
            "The notebook server will temporarily stop sending output\n",
            "to the client in order to avoid crashing it.\n",
            "To change this limit, set the config variable\n",
            "`--NotebookApp.iopub_msg_rate_limit`.\n",
            "\n",
            "Current values:\n",
            "NotebookApp.iopub_msg_rate_limit=1000.0 (msgs/sec)\n",
            "NotebookApp.rate_limit_window=3.0 (secs)\n",
            "\n"
          ],
          "name": "stderr"
        },
        {
          "output_type": "stream",
          "text": [
            "epoch      trn_loss   val_loss   accuracy                      \n",
            "    0      0.441473   0.254497   0.9168    \n"
          ],
          "name": "stdout"
        },
        {
          "output_type": "display_data",
          "data": {
            "application/vnd.jupyter.widget-view+json": {
              "model_id": "1e715be6b7434946857e005128042985",
              "version_major": 2,
              "version_minor": 0
            },
            "text/plain": [
              "HBox(children=(IntProgress(value=0, description='Epoch', max=1), HTML(value='')))"
            ]
          },
          "metadata": {
            "tags": []
          }
        },
        {
          "output_type": "stream",
          "text": [
            " 98%|█████████▊| 2044/2084 [07:08<00:08,  4.77it/s, loss=0.414]"
          ],
          "name": "stdout"
        },
        {
          "output_type": "stream",
          "text": [
            "IOPub message rate exceeded.\n",
            "The notebook server will temporarily stop sending output\n",
            "to the client in order to avoid crashing it.\n",
            "To change this limit, set the config variable\n",
            "`--NotebookApp.iopub_msg_rate_limit`.\n",
            "\n",
            "Current values:\n",
            "NotebookApp.iopub_msg_rate_limit=1000.0 (msgs/sec)\n",
            "NotebookApp.rate_limit_window=3.0 (secs)\n",
            "\n"
          ],
          "name": "stderr"
        },
        {
          "output_type": "stream",
          "text": [
            "    1      0.309567   0.170769   0.9367                        \n",
            " 80%|███████▉  | 1664/2084 [11:45<02:57,  2.36it/s, loss=0.249]"
          ],
          "name": "stdout"
        },
        {
          "output_type": "stream",
          "text": [
            "IOPub message rate exceeded.\n",
            "The notebook server will temporarily stop sending output\n",
            "to the client in order to avoid crashing it.\n",
            "To change this limit, set the config variable\n",
            "`--NotebookApp.iopub_msg_rate_limit`.\n",
            "\n",
            "Current values:\n",
            "NotebookApp.iopub_msg_rate_limit=1000.0 (msgs/sec)\n",
            "NotebookApp.rate_limit_window=3.0 (secs)\n",
            "\n"
          ],
          "name": "stderr"
        },
        {
          "output_type": "stream",
          "text": [
            "    4      0.257701   0.153826   0.9416                        \n",
            " 80%|███████▉  | 1665/2084 [13:25<03:22,  2.07it/s, loss=0.239]"
          ],
          "name": "stdout"
        },
        {
          "output_type": "stream",
          "text": [
            "IOPub message rate exceeded.\n",
            "The notebook server will temporarily stop sending output\n",
            "to the client in order to avoid crashing it.\n",
            "To change this limit, set the config variable\n",
            "`--NotebookApp.iopub_msg_rate_limit`.\n",
            "\n",
            "Current values:\n",
            "NotebookApp.iopub_msg_rate_limit=1000.0 (msgs/sec)\n",
            "NotebookApp.rate_limit_window=3.0 (secs)\n",
            "\n"
          ],
          "name": "stderr"
        },
        {
          "output_type": "stream",
          "text": [
            "    6      0.24764    0.148807   0.94436                       \n",
            "    7      0.239934   0.146907   0.9456                        \n",
            "    8      0.224837   0.156241   0.94496                       \n",
            "  9%|▉         | 189/2084 [01:18<13:09,  2.40it/s, loss=0.212]"
          ],
          "name": "stdout"
        },
        {
          "output_type": "stream",
          "text": [
            "IOPub message rate exceeded.\n",
            "The notebook server will temporarily stop sending output\n",
            "to the client in order to avoid crashing it.\n",
            "To change this limit, set the config variable\n",
            "`--NotebookApp.iopub_msg_rate_limit`.\n",
            "\n",
            "Current values:\n",
            "NotebookApp.iopub_msg_rate_limit=1000.0 (msgs/sec)\n",
            "NotebookApp.rate_limit_window=3.0 (secs)\n",
            "\n"
          ],
          "name": "stderr"
        },
        {
          "output_type": "stream",
          "text": [
            "    10     0.212315   0.145792   0.94616                       \n",
            "    11     0.221374   0.14564    0.9458                        \n",
            "  8%|▊         | 166/2084 [01:09<13:18,  2.40it/s, loss=0.186]"
          ],
          "name": "stdout"
        }
      ]
    },
    {
      "metadata": {
        "id": "cGgz9HaPifin",
        "colab_type": "text"
      },
      "cell_type": "markdown",
      "source": [
        "Some notebook issues here, you might want to run this cell from a python script..."
      ]
    },
    {
      "metadata": {
        "id": "zrRafu35ifio",
        "colab_type": "text"
      },
      "cell_type": "markdown",
      "source": [
        "# Conclusions\n",
        "Lety's see the evollution of the accuracy when we increas the size of the train data.\n",
        "For each training size, we report the best accuracy among the different epochs."
      ]
    },
    {
      "metadata": {
        "id": "BP6Sf7taifio",
        "colab_type": "code",
        "colab": {},
        "outputId": "d220f391-a15a-4c61-b8cc-d8f2140ea3e2"
      },
      "cell_type": "code",
      "source": [
        "import matplotlib.pyplot as plt\n",
        "\n",
        "best_acc = [0.84558, 0.87324, 0.91232, 0.9203, 0.93174, 0.93584, 0.94032, 0.94616]\n",
        "sizes = [50, 100, 500, 1000, 5000, 10000, 20000, 50000]\n",
        "plt.plot(sizes, best_acc)\n",
        "plt.title('Evolution of performance when increasing the training size')\n",
        "plt.xlabel('Training size')\n",
        "plt.ylabel('Accuracy')\n",
        "plt.show()\n",
        "\n",
        "plt.plot(sizes, best_acc)\n",
        "plt.title('Evolution of performance when increasing the training size, Zoom on the [0-10000] size zone')\n",
        "plt.xlabel('Training size')\n",
        "plt.ylabel('Accuracy')\n",
        "plt.xlim([0, 10000])\n",
        "plt.show()\n",
        "\n",
        "plt.plot(np.log(sizes)/np.log(10), best_acc)\n",
        "plt.title('Evolution of performance when increasing the training size, with log scale for size')\n",
        "plt.xlabel('Training size (log)')\n",
        "plt.ylabel('Accuracy')\n",
        "plt.show()"
      ],
      "execution_count": 0,
      "outputs": [
        {
          "output_type": "display_data",
          "data": {
            "image/png": "[encoded data removed]",
            "text/plain": [
              "<Figure size 432x288 with 1 Axes>"
            ]
          },
          "metadata": {
            "tags": []
          }
        },
        {
          "output_type": "display_data",
          "data": {
            "image/png": "[encoded data removed]",
            "text/plain": [
              "<Figure size 432x288 with 1 Axes>"
            ]
          },
          "metadata": {
            "tags": []
          }
        },
        {
          "output_type": "display_data",
          "data": {
            "image/png": "[encoded data removed]",
            "text/plain": [
              "<Figure size 432x288 with 1 Axes>"
            ]
          },
          "metadata": {
            "tags": []
          }
        }
      ]
    },
    {
      "metadata": {
        "id": "uxdD7PDpifit",
        "colab_type": "text"
      },
      "cell_type": "markdown",
      "source": [
        "- The first observation is, even with 50 samples only, we get a pretty great accuracy of 0.85!\n",
        "- Then we see that the learning progress is very consequent when going from a size of 50 to 1000 samples\n",
        "- The ULMFit beats the reported score from FastText (~0.92) when using 1000 samples only! Note that the reported score from FastText is from a training using the whole training data (3.6M samples)\n",
        "- The accuracy continues to rise when we increase the training size, but with a lower speed. Here the trade-off comes, where you have to decide whether the extra 0.1% in accuracy is worth paying for more labeled data!\n",
        "- From the log-scale graph we might expect even greater results when raining the training size. We have 4.6M training reviews so we could get orders of magnitude more so we could expect reaching 0.95 accuracy or more with the full dataset."
      ]
    }
  ]
}